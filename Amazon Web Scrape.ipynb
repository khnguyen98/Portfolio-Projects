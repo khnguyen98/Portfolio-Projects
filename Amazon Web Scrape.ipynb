{
 "cells": [
  {
   "cell_type": "code",
   "execution_count": 1,
   "id": "8e6e7e63",
   "metadata": {},
   "outputs": [],
   "source": [
    "# Import libraries\n",
    "from bs4 import BeautifulSoup\n",
    "import requests\n",
    "import time\n",
    "import datetime\n",
    "import smtplib"
   ]
  },
  {
   "cell_type": "code",
   "execution_count": 2,
   "id": "a651538f",
   "metadata": {},
   "outputs": [
    {
     "name": "stdout",
     "output_type": "stream",
     "text": [
      "\n",
      "           Pokémon Brilliant Diamond - Nintendo Switch\n",
      "          \n",
      "$54.99\n"
     ]
    }
   ],
   "source": [
    "# Connect to and pull data from website\n",
    "\n",
    "URL = 'https://www.amazon.com/Pokemon-Brilliant-Diamond-Nintendo-Switch/dp/B08Y6HCHP8/ref=sr_1_8?crid=301JQLH8OC8L&keywords=pokemon&qid=1643226962&sprefix=pokemon%2Caps%2C126&sr=8-8'\n",
    "\n",
    "headers = {\"User-Agent\": \"Mozilla/5.0 (Windows NT 10.0; Win64; x64) AppleWebKit/537.36 (KHTML, like Gecko) Chrome/97.0.4692.71 Safari/537.36\", \"Accept-Encoding\":\"gzip, deflate, br\", \"Accept-Language\": \"en-US,en;q=0.9\", \"Accept\":\"text/html,application/xhtml+xml,application/xml;q=0.9,*/*;q=0.8\", \"DNT\":\"1\",\"Connection\":\"close\", \"Upgrade-Insecure-Requests\":\"1\"}\n",
    "\n",
    "page = requests.get(URL, headers=headers)\n",
    "\n",
    "soup = BeautifulSoup(page.text, \"lxml\")\n",
    "\n",
    "soup_pretty = BeautifulSoup(soup.prettify(), \"lxml\")\n",
    "#print(soup_pretty)\n",
    "\n",
    "title = soup_pretty.find(id=\"productTitle\").get_text()\n",
    "\n",
    "# After inspecting the website, the id (\"priceblock_ourprice\") did not match the id listed in soup_pretty (base-product-price)\n",
    "# Thus, need to find price based on soup_pretty\n",
    "price = soup_pretty.find(id=\"base-product-price\")[\"data-base-product-price\"]\n",
    "\n",
    "\n",
    "print(title)\n",
    "print(price)"
   ]
  },
  {
   "cell_type": "code",
   "execution_count": 3,
   "id": "4d3e7526",
   "metadata": {},
   "outputs": [
    {
     "name": "stdout",
     "output_type": "stream",
     "text": [
      "Pokémon Brilliant Diamond - Nintendo Switch\n",
      "54.99\n"
     ]
    }
   ],
   "source": [
    "# Clean data\n",
    "\n",
    "title = title.strip()\n",
    "price = float(price.strip()[1:])\n",
    "\n",
    "print(title)\n",
    "print(price)"
   ]
  },
  {
   "cell_type": "code",
   "execution_count": 4,
   "id": "39d568df",
   "metadata": {},
   "outputs": [
    {
     "name": "stdout",
     "output_type": "stream",
     "text": [
      "2022-01-26\n"
     ]
    }
   ],
   "source": [
    "# Create Timestamp to track when data was collected\n",
    "\n",
    "output_date = datetime.date.today()\n",
    "\n",
    "print(output_date)"
   ]
  },
  {
   "cell_type": "code",
   "execution_count": 5,
   "id": "d1a7b26e",
   "metadata": {},
   "outputs": [],
   "source": [
    "# Write headers and data into CSV file\n",
    "\n",
    "import csv\n",
    "\n",
    "header = [\"Date\", \"Title\", \"Price\"]\n",
    "data = [output_date, title, price]\n",
    "\n",
    "# To import initial data into csv\n",
    "with open(\"Amazon_Pokemon_Scraper_Dataset.csv\", \"w\", newline='', encoding=\"UTF8\") as f:\n",
    "    writer = csv.writer(f)\n",
    "    writer.writerow(header)\n",
    "    writer.writerow(data)"
   ]
  },
  {
   "cell_type": "code",
   "execution_count": 6,
   "id": "aa49a375",
   "metadata": {},
   "outputs": [
    {
     "name": "stdout",
     "output_type": "stream",
     "text": [
      "         Date                                        Title  Price\n",
      "0  2022-01-26  Pokémon Brilliant Diamond - Nintendo Switch  54.99\n"
     ]
    }
   ],
   "source": [
    "# Read and check CSV\n",
    "\n",
    "import pandas as pd\n",
    "\n",
    "df = pd.read_csv('Amazon_Pokemon_Scraper_Dataset.csv')\n",
    "\n",
    "print(df)"
   ]
  },
  {
   "cell_type": "code",
   "execution_count": 7,
   "id": "f0f308eb",
   "metadata": {},
   "outputs": [],
   "source": [
    "# Define function to send email to self when price drops\n",
    "\n",
    "def send_mail():\n",
    "    server = smtplib.SMTP_SSL('smtp.gmail.com',465)\n",
    "    server.ehlo()\n",
    "    #server.starttls()\n",
    "    server.ehlo()\n",
    "    server.login('kimberlyhnguyen98@gmail.com','xxxxxxxxxxxxxx')\n",
    "    \n",
    "    subject = \"Pokemon Brilliant Diamond is now under $50! Now is your chance to buy!\"\n",
    "    body = \"Go, Kimberly! Now is your chance to pick up a new Pokemon game. Link here: https://www.amazon.com/Pokemon-Brilliant-Diamond-Nintendo-Switch/dp/B08Y6HCHP8/ref=sr_1_8?crid=301JQLH8OC8L&keywords=pokemon&qid=1643226962&sprefix=pokemon%2Caps%2C126&sr=8-8\"\n",
    "   \n",
    "    msg = f\"Subject: {subject}\\n\\n{body}\"\n",
    "    \n",
    "    server.sendmail(\n",
    "        'kimberlyhnguyen98@gmail.com',\n",
    "        msg\n",
    "     \n",
    "    )"
   ]
  },
  {
   "cell_type": "code",
   "execution_count": 10,
   "id": "c5b3ebd4",
   "metadata": {},
   "outputs": [],
   "source": [
    "# Combine all code from above into one function\n",
    "\n",
    "def check_pokemon_price():\n",
    "    URL = 'https://www.amazon.com/Pokemon-Brilliant-Diamond-Nintendo-Switch/dp/B08Y6HCHP8/ref=sr_1_8?crid=301JQLH8OC8L&keywords=pokemon&qid=1643226962&sprefix=pokemon%2Caps%2C126&sr=8-8'\n",
    "\n",
    "    headers = {\"User-Agent\": \"Mozilla/5.0 (Windows NT 10.0; Win64; x64) AppleWebKit/537.36 (KHTML, like Gecko) Chrome/97.0.4692.71 Safari/537.36\", \"Accept-Encoding\":\"gzip, deflate, br\", \"Accept-Language\": \"en-US,en;q=0.9\", \"Accept\":\"text/html,application/xhtml+xml,application/xml;q=0.9,*/*;q=0.8\", \"DNT\":\"1\",\"Connection\":\"close\", \"Upgrade-Insecure-Requests\":\"1\"}\n",
    "\n",
    "    page = requests.get(URL, headers=headers)\n",
    "\n",
    "    soup = BeautifulSoup(page.text, \"lxml\")\n",
    "\n",
    "    soup_pretty = BeautifulSoup(soup.prettify(), \"lxml\")\n",
    "    \n",
    "    title = soup_pretty.find(id=\"productTitle\").get_text()\n",
    "    \n",
    "    price = soup_pretty.find(id=\"base-product-price\")[\"data-base-product-price\"]\n",
    "    \n",
    "    output_date = datetime.date.today()\n",
    "    \n",
    "    # Clean data\n",
    "    \n",
    "    title = title.strip()\n",
    "    price = float(price.strip()[1:])\n",
    "    \n",
    "    import csv\n",
    "\n",
    "    header = [\"Date\", \"Title\", \"Price\"]\n",
    "    data = [output_date, title, price]\n",
    "    \n",
    "    # Append data to CSV\n",
    "    with open(\"Amazon_Pokemon_Scraper_Dataset.csv\", \"a+\", newline='', encoding=\"UTF8\") as f:\n",
    "        writer = csv.writer(f)\n",
    "        writer.writerow(data)\n",
    "\n",
    "    # Sending email to self if price drops\n",
    "    if(price < 50.00):\n",
    "        send_mail()"
   ]
  },
  {
   "cell_type": "code",
   "execution_count": null,
   "id": "0723bd10",
   "metadata": {},
   "outputs": [],
   "source": [
    "# Run function every 24 hours\n",
    "\n",
    "while(True):\n",
    "    check_pokemon_price()\n",
    "    time.sleep(86400)"
   ]
  }
 ],
 "metadata": {
  "kernelspec": {
   "display_name": "Python 3 (ipykernel)",
   "language": "python",
   "name": "python3"
  },
  "language_info": {
   "codemirror_mode": {
    "name": "ipython",
    "version": 3
   },
   "file_extension": ".py",
   "mimetype": "text/x-python",
   "name": "python",
   "nbconvert_exporter": "python",
   "pygments_lexer": "ipython3",
   "version": "3.9.7"
  }
 },
 "nbformat": 4,
 "nbformat_minor": 5
}
